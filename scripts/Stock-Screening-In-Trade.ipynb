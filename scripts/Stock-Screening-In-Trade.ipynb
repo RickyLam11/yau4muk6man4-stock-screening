{
 "cells": [
  {
   "cell_type": "markdown",
   "id": "patent-alarm",
   "metadata": {},
   "source": [
    "# Stock Screening (In Trade) v0\n",
    "\n",
    "In this notebook we try to achieve\n",
    "- Given a list of Ticker, compare Volumn from 2 day ago til today\n",
    "- Send Telegram notice\n",
    "\n",
    "Timeline as follow:\n",
    "\n",
    "|| T0 | T1 | T2 | T3 |\n",
    "| --- | --- | --- | --- | --- |\n",
    "| Expected trend | x | Volume Rise | Volume Drop | Price Rise |\n",
    "| Action | x | Create Potential Stocks List | **Enter Market near day end** | |"
   ]
  },
  {
   "cell_type": "markdown",
   "id": "separate-driver",
   "metadata": {},
   "source": [
    "Import Library"
   ]
  },
  {
   "cell_type": "code",
   "execution_count": null,
   "id": "sunset-punishment",
   "metadata": {},
   "outputs": [],
   "source": [
    "import numpy as np\n",
    "import pandas as pd\n",
    "import requests\n",
    "import xlsxwriter\n",
    "import math\n",
    "from scipy import stats"
   ]
  },
  {
   "cell_type": "markdown",
   "id": "domestic-craps",
   "metadata": {},
   "source": [
    "Import Token"
   ]
  },
  {
   "cell_type": "code",
   "execution_count": null,
   "id": "printable-plane",
   "metadata": {},
   "outputs": [],
   "source": [
    "from secrets import IEX_SANDBOX_API_TOKEN as IEX_CLOUD_API_TOKEN\n",
    "baseUrl = f'https://sandbox.iexapis.com/stable'\n",
    "\n",
    "# from secrets import IEX_CLOUD_API_TOKEN\n",
    "# baseUrl = f'https://cloud.iexapis.com/stable'"
   ]
  },
  {
   "cell_type": "markdown",
   "id": "meaning-secret",
   "metadata": {},
   "source": [
    "IEX Cloud API test call"
   ]
  },
  {
   "cell_type": "code",
   "execution_count": null,
   "id": "executive-amazon",
   "metadata": {},
   "outputs": [],
   "source": [
    "symbol = 'AAPL'\n",
    "symbolString = 'AAPL,TSLA,CANB'\n",
    "symbolString = 'ABCL,ACHR,ACMR,ACTG'\n",
    "\n",
    "tradingDates = f'/ref-data/us/dates/trade/last/?token={IEX_CLOUD_API_TOKEN}'\n",
    "\n",
    "apiUrl = baseUrl + tradingDates\n",
    "# data = requests.get(apiUrl)\n",
    "# print(data.status_code)\n",
    "# print(data.text)\n",
    "data = requests.get(apiUrl).json()\n",
    "data"
   ]
  },
  {
   "cell_type": "markdown",
   "id": "suffering-optimization",
   "metadata": {},
   "source": [
    "## Preparation\n",
    "\n",
    "Fetch ticker of \"today\" watch list (which is generated in last trading day).\n",
    "\n",
    "In which will also define \"T0 date\" of this screening."
   ]
  },
  {
   "cell_type": "code",
   "execution_count": null,
   "id": "assured-honey",
   "metadata": {},
   "outputs": [],
   "source": [
    "apiUrl = baseUrl + f'/ref-data/us/dates/trade/last/?token={IEX_CLOUD_API_TOKEN}'\n",
    "data = requests.get(apiUrl).json()\n",
    "data"
   ]
  },
  {
   "cell_type": "code",
   "execution_count": null,
   "id": "pacific-large",
   "metadata": {},
   "outputs": [],
   "source": [
    "lastTradingDate = data[0]['date'].replace(\"-\", \"\")\n",
    "lastTradingDate"
   ]
  },
  {
   "cell_type": "code",
   "execution_count": null,
   "id": "material-welsh",
   "metadata": {},
   "outputs": [],
   "source": [
    "potentialStocks = pd.read_csv(f'../export/{lastTradingDate}/yau4muk6man4_strategy_US_{lastTradingDate}_volume_rise.csv')\n",
    "potentialStocks"
   ]
  },
  {
   "cell_type": "code",
   "execution_count": null,
   "id": "occasional-egypt",
   "metadata": {},
   "outputs": [],
   "source": [
    "t0Date = potentialStocks.loc[0, 'T0 Date'].replace(\"-\", \"\")\n",
    "t0Date"
   ]
  },
  {
   "cell_type": "markdown",
   "id": "hollow-blackjack",
   "metadata": {},
   "source": [
    "Define chunks to prepare for batch API call"
   ]
  },
  {
   "cell_type": "code",
   "execution_count": null,
   "id": "rising-award",
   "metadata": {},
   "outputs": [],
   "source": [
    "def chunks(lst, n):\n",
    "    \"\"\"Yield successive n-sized chunks from lst.\"\"\"\n",
    "    for i in range(0, len(lst), n):\n",
    "        yield lst[i:i + n]\n",
    "        \n",
    "symbolGroups = list(chunks(potentialStocks['Ticker'], 100))\n",
    "symbolStrings = []\n",
    "for i in range(0, len(symbolGroups)):\n",
    "    symbolStrings.append(','.join(symbolGroups[i]))\n",
    "#     print(symbol_strings[i])\n",
    "\n",
    "symbolStrings"
   ]
  },
  {
   "cell_type": "markdown",
   "id": "false-language",
   "metadata": {},
   "source": [
    "## Data Fetching\n",
    "\n",
    "Create main DataFrame, including volume of today, previous trading date and the day before.\n",
    "\n",
    "Data imported from IEX Cloud API."
   ]
  },
  {
   "cell_type": "code",
   "execution_count": null,
   "id": "desperate-synthesis",
   "metadata": {},
   "outputs": [],
   "source": [
    "finalDataFrameColumns = [\n",
    "    'Ticker',\n",
    "    'Price',\n",
    "    '30 day Average Volume',\n",
    "    'T0 Date',\n",
    "    'T0 Volume',\n",
    "    'T1 Volume',\n",
    "    'T1 Volume Ratio',\n",
    "    'T2 Volume',\n",
    "    'T2 Volume Ratio',\n",
    "]\n",
    "\n",
    "finalDataFrame = pd.DataFrame(columns = finalDataFrameColumns)\n",
    "\n",
    "for symbolString in symbolStrings:\n",
    "    batchApiUrlCall = baseUrl + f'/stock/market/batch?symbols={symbolString}&types=quote,chart&exactDate={t0Date}&chartCloseOnly=true&chartByDay=true&token={IEX_CLOUD_API_TOKEN}'\n",
    "    data = requests.get(batchApiUrlCall).json()\n",
    "#     print(data)\n",
    "#     print(data.status_code)\n",
    "    for symbol in symbolString.split(','):\n",
    "        try:\n",
    "            latestPrice = data[symbol]['quote']['latestPrice']\n",
    "        except KeyError:\n",
    "            latestPrice = np.NaN\n",
    "        try:\n",
    "            avgTotalVolume = data[symbol]['quote']['avgTotalVolume']\n",
    "        except KeyError:\n",
    "            avgTotalVolume = np.NaN\n",
    "        try:\n",
    "            latestVolume = data[symbol]['quote']['latestVolume']\n",
    "        except KeyError:\n",
    "            latestVolume = np.NaN\n",
    "\n",
    "        try:\n",
    "            t1Volume = data[symbol]['quote']['previousVolume']\n",
    "        except (KeyError, TypeError):\n",
    "            t1Volume = np.NaN\n",
    "            \n",
    "        try:\n",
    "            t0Volume = data[symbol]['chart'][0]['volume']\n",
    "        except IndexError:\n",
    "            t0Volume = np.NaN\n",
    "\n",
    "        finalDataFrame = finalDataFrame.append(\n",
    "            pd.Series(\n",
    "                [\n",
    "                    symbol,\n",
    "                    latestPrice,\n",
    "                    avgTotalVolume,\n",
    "                    data[symbol]['chart'][0]['date'],\n",
    "                    t0Volume,\n",
    "                    t1Volume,\n",
    "                    'N/A',\n",
    "                    latestVolume,\n",
    "                    'N/A',\n",
    "                ],\n",
    "                index = finalDataFrameColumns\n",
    "            ),\n",
    "            ignore_index = True\n",
    "        )\n",
    "\n",
    "finalDataFrame"
   ]
  },
  {
   "cell_type": "markdown",
   "id": "sorted-philosophy",
   "metadata": {},
   "source": [
    "## Data Cleaning"
   ]
  },
  {
   "cell_type": "markdown",
   "id": "interior-twelve",
   "metadata": {},
   "source": [
    "Clean out data with None from API"
   ]
  },
  {
   "cell_type": "code",
   "execution_count": null,
   "id": "thorough-arrangement",
   "metadata": {},
   "outputs": [],
   "source": [
    "finalDataFrame[finalDataFrame.isnull().any(axis = 1)]\n",
    "# finalDataFrame[finalDataFrame['Price'].isnull()]"
   ]
  },
  {
   "cell_type": "code",
   "execution_count": null,
   "id": "agreed-irish",
   "metadata": {},
   "outputs": [],
   "source": [
    "finalDataFrame = finalDataFrame.dropna()\n",
    "finalDataFrame"
   ]
  },
  {
   "cell_type": "markdown",
   "id": "periodic-april",
   "metadata": {},
   "source": [
    "## Calculation\n",
    "\n",
    "Calculate Volume change Ratio"
   ]
  },
  {
   "cell_type": "code",
   "execution_count": null,
   "id": "democratic-large",
   "metadata": {},
   "outputs": [],
   "source": [
    "for row in finalDataFrame.index:\n",
    "    finalDataFrame.loc[row, 'T1 Volume Ratio'] = finalDataFrame.loc[row, 'T1 Volume'] / finalDataFrame.loc[row, 'T0 Volume']\n",
    "    finalDataFrame.loc[row, 'T2 Volume Ratio'] = finalDataFrame.loc[row, 'T2 Volume'] / finalDataFrame.loc[row, 'T1 Volume']\n",
    "    \n",
    "finalDataFrame"
   ]
  },
  {
   "cell_type": "markdown",
   "id": "embedded-cleaners",
   "metadata": {},
   "source": [
    "## Screening\n",
    "\n",
    "Screening criteria are as follow:\n",
    "\n",
    "- T2 Volume is below 25% of T1"
   ]
  },
  {
   "cell_type": "code",
   "execution_count": null,
   "id": "sensitive-comparison",
   "metadata": {},
   "outputs": [],
   "source": [
    "t2traget = float(0.25)\n",
    "\n",
    "finalDataFrame = finalDataFrame[\n",
    "    (finalDataFrame['T2 Volume Ratio'] < t2traget)\n",
    "]\n",
    "finalDataFrame.sort_values(\n",
    "    'Ticker',\n",
    "    ascending = True,\n",
    "    inplace = True\n",
    ")\n",
    "finalDataFrame.reset_index(inplace = True, drop = True)\n",
    "\n",
    "finalDataFrame"
   ]
  },
  {
   "cell_type": "markdown",
   "id": "minute-astrology",
   "metadata": {},
   "source": [
    "## Data Export"
   ]
  },
  {
   "cell_type": "code",
   "execution_count": null,
   "id": "material-communications",
   "metadata": {},
   "outputs": [],
   "source": [
    "from datetime import date\n",
    "import os\n",
    "\n",
    "today = date.today().strftime(\"%Y%m%d\")\n",
    "folderName = f'../export/{today}'\n",
    "fileName = f'{folderName}/yau4muk6man4_strategy_US_{today}_volume_drop'\n",
    "folderName = f'../export/{today}/'\n",
    "csvFileName = f'{fileName}.csv'\n",
    "xlsxFileName = f'{fileName}.xlsx'\n",
    "sheetName = f'{today} Volume Drop'"
   ]
  },
  {
   "cell_type": "code",
   "execution_count": null,
   "id": "dutch-disclosure",
   "metadata": {},
   "outputs": [],
   "source": [
    "try:\n",
    "    os.mkdir(folderName)\n",
    "    print(\"Directory \" , folderName ,  \" Created \") \n",
    "except FileExistsError:\n",
    "    print(\"Directory \" , folderName ,  \" already exists\")"
   ]
  },
  {
   "cell_type": "markdown",
   "id": "enclosed-military",
   "metadata": {},
   "source": [
    "Export to xlsx"
   ]
  },
  {
   "cell_type": "code",
   "execution_count": null,
   "id": "posted-dominican",
   "metadata": {},
   "outputs": [],
   "source": [
    "writer = pd.ExcelWriter(xlsxFileName, engine = 'xlsxwriter')\n",
    "finalDataFrame.to_excel(writer, sheet_name = sheetName, index = False)"
   ]
  },
  {
   "cell_type": "code",
   "execution_count": null,
   "id": "western-laptop",
   "metadata": {},
   "outputs": [],
   "source": [
    "backgroundColor = '#0a0a23'\n",
    "fontColor = '#ffffff'\n",
    "\n",
    "stringTemplate = writer.book.add_format(\n",
    "        {\n",
    "            'font_color': fontColor,\n",
    "            'bg_color': backgroundColor,\n",
    "            'border': 1\n",
    "        }\n",
    "    )\n",
    "\n",
    "dollarTemplate = writer.book.add_format(\n",
    "        {\n",
    "            'num_format':'$0.00',\n",
    "            'font_color': fontColor,\n",
    "            'bg_color': backgroundColor,\n",
    "            'border': 1\n",
    "        }\n",
    "    )\n",
    "\n",
    "integerTemplate = writer.book.add_format(\n",
    "        {\n",
    "            'num_format':'#,###',\n",
    "            'font_color': fontColor,\n",
    "            'bg_color': backgroundColor,\n",
    "            'border': 1\n",
    "        }\n",
    "    )\n",
    "\n",
    "floatTemplate = writer.book.add_format(\n",
    "        {\n",
    "            'num_format':'0.0',\n",
    "            'font_color': fontColor,\n",
    "            'bg_color': backgroundColor,\n",
    "            'border': 1\n",
    "        }\n",
    "    )\n",
    "\n",
    "percentTemplate = writer.book.add_format(\n",
    "        {\n",
    "            'num_format':'0.0%',\n",
    "            'font_color': fontColor,\n",
    "            'bg_color': backgroundColor,\n",
    "            'border': 1\n",
    "        }\n",
    "    )"
   ]
  },
  {
   "cell_type": "code",
   "execution_count": null,
   "id": "narrow-theorem",
   "metadata": {},
   "outputs": [],
   "source": [
    "columnFormats = {\n",
    "    'A': ['Ticker', stringTemplate],\n",
    "    'B': ['Price', dollarTemplate],\n",
    "    'C': ['30 day Average Volume', integerTemplate],\n",
    "    'D': ['T0 Date', stringTemplate],\n",
    "    'E': ['T0 Volume', integerTemplate],\n",
    "    'F': ['T1 Volume', integerTemplate],\n",
    "    'G': ['T1 Volume Ratio', percentTemplate],\n",
    "    'H': ['T2 Volume', integerTemplate],\n",
    "    'I': ['T2 Volume Ratio', percentTemplate],\n",
    "}\n",
    "\n",
    "for column in columnFormats.keys():\n",
    "    writer.sheets[sheetName].set_column(\n",
    "        f'{column}:{column}',\n",
    "        max(len(columnFormats[column][0]), 10),\n",
    "        columnFormats[column][1]\n",
    "    )\n",
    "    writer.sheets[sheetName].write(\n",
    "        f'{column}1',\n",
    "        columnFormats[column][0],\n",
    "        columnFormats[column][1]\n",
    "    )"
   ]
  },
  {
   "cell_type": "code",
   "execution_count": null,
   "id": "sunset-confirmation",
   "metadata": {},
   "outputs": [],
   "source": [
    "writer.save()"
   ]
  }
 ],
 "metadata": {
  "kernelspec": {
   "display_name": "Python 3",
   "language": "python",
   "name": "python3"
  },
  "language_info": {
   "codemirror_mode": {
    "name": "ipython",
    "version": 3
   },
   "file_extension": ".py",
   "mimetype": "text/x-python",
   "name": "python",
   "nbconvert_exporter": "python",
   "pygments_lexer": "ipython3",
   "version": "3.9.13"
  }
 },
 "nbformat": 4,
 "nbformat_minor": 5
}
