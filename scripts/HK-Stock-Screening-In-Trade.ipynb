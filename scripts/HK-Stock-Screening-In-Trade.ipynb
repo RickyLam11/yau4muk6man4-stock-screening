{
 "cells": [
  {
   "cell_type": "markdown",
   "id": "patent-alarm",
   "metadata": {},
   "source": [
    "# HK Stock Screening (In Trade) v0\n",
    "\n",
    "In this notebook we try to achieve\n",
    "- Given a list of Ticker, compare Volumn from 2 day ago til today\n",
    "- Introduce Nasdaq API\n",
    "- Screen HK Common Stock with previous day Volume\n",
    "\n",
    "\n",
    "Timeline as follow:\n",
    "\n",
    "|| T0 | T1 | T2 | T3 |\n",
    "| --- | --- | --- | --- | --- |\n",
    "| Expected trend | x | Volume Rise | Volume Drop | Price Rise |\n",
    "| Action | x | Create Potential Stocks List | **Enter Market near day end** | |"
   ]
  },
  {
   "cell_type": "markdown",
   "id": "separate-driver",
   "metadata": {},
   "source": [
    "Import Library"
   ]
  },
  {
   "cell_type": "code",
   "execution_count": null,
   "id": "sunset-punishment",
   "metadata": {},
   "outputs": [],
   "source": [
    "import numpy as np\n",
    "import pandas as pd\n",
    "import requests\n",
    "import xlsxwriter\n",
    "import math\n",
    "from scipy import stats\n",
    "import nasdaqdatalink\n",
    "from datetime import date"
   ]
  },
  {
   "cell_type": "markdown",
   "id": "domestic-craps",
   "metadata": {},
   "source": [
    "Import Token"
   ]
  },
  {
   "cell_type": "code",
   "execution_count": null,
   "id": "printable-plane",
   "metadata": {},
   "outputs": [],
   "source": [
    "from secrets import NASDAQ_API_TOKEN\n",
    "nasdaqdatalink.ApiConfig.api_key = NASDAQ_API_TOKEN\n",
    "SEND_TELEGRAM = False"
   ]
  },
  {
   "cell_type": "markdown",
   "id": "meaning-secret",
   "metadata": {},
   "source": [
    "Nasdaq Data Link API test call"
   ]
  },
  {
   "cell_type": "code",
   "execution_count": null,
   "id": "executive-amazon",
   "metadata": {},
   "outputs": [],
   "source": [
    "# data = nasdaqdatalink.get('HKEX/00213',\n",
    "#                           column_index=10,\n",
    "#                           rows=30,\n",
    "#                           order='asc',\n",
    "#                          )\n",
    "\n",
    "# data['Share Volume (000)'].mean()\n"
   ]
  },
  {
   "cell_type": "markdown",
   "id": "suffering-optimization",
   "metadata": {},
   "source": [
    "## Preparation\n",
    "\n",
    "Fetch ticker of \"today\" watch list (which is generated in last trading day).\n",
    "\n",
    "In which will also define \"T0 date\" of this screening."
   ]
  },
  {
   "cell_type": "code",
   "execution_count": null,
   "id": "assured-honey",
   "metadata": {},
   "outputs": [],
   "source": [
    "data = nasdaqdatalink.get('HKEX/06823',\n",
    "                          rows=2,\n",
    "                          order='asc',\n",
    "                         )\n",
    "data\n",
    "# str(data.iloc[0].name.date()).replace(\"-\", \"\")"
   ]
  },
  {
   "cell_type": "code",
   "execution_count": null,
   "id": "pacific-large",
   "metadata": {},
   "outputs": [],
   "source": [
    "lastTradingDate = str(data.iloc[0].name.date()).replace(\"-\", \"\")\n",
    "lastTradingDate"
   ]
  },
  {
   "cell_type": "code",
   "execution_count": null,
   "id": "material-welsh",
   "metadata": {},
   "outputs": [],
   "source": [
    "potentialStocks = pd.read_csv(f'../export/{lastTradingDate}/yau4muk6man4_strategy_HK_{lastTradingDate}_volume_rise.csv')\n",
    "potentialStocks"
   ]
  },
  {
   "cell_type": "markdown",
   "id": "false-language",
   "metadata": {},
   "source": [
    "## Data Fetching\n",
    "\n",
    "Create main DataFrame, including volume of today, previous trading date and the day before.\n",
    "\n",
    "Data imported from IEX Cloud API."
   ]
  },
  {
   "cell_type": "code",
   "execution_count": null,
   "id": "desperate-synthesis",
   "metadata": {},
   "outputs": [],
   "source": [
    "%%time\n",
    "\n",
    "finalDataFrameColumns = [\n",
    "    'Ticker',\n",
    "    'Price',\n",
    "    '30 day Average Volume',\n",
    "    'T0 Date',\n",
    "    'T0 Volume',\n",
    "    'T1 Volume',\n",
    "    'T1 Volume Ratio',\n",
    "    'T2 Volume',\n",
    "    'T2 Volume Ratio',\n",
    "]\n",
    "\n",
    "finalDataFrame = pd.DataFrame(columns = finalDataFrameColumns)\n",
    "\n",
    "for symbol in potentialStocks['Ticker']:\n",
    "    data = nasdaqdatalink.get(f'HKEX/{symbol:05}',\n",
    "                              rows=3,\n",
    "                              order='asc'\n",
    "                             )\n",
    "#     print(data)\n",
    "    try:\n",
    "        latestPrice = data.iloc[-1]['Nominal Price']\n",
    "    except (KeyError, IndexError):\n",
    "        latestPrice = np.NaN\n",
    "        \n",
    "    try:\n",
    "        t0Volume = data.iloc[0]['Share Volume (000)']\n",
    "    except (KeyError, IndexError):\n",
    "        try:\n",
    "            t0Volume = data.iloc[0]['Share Volume (\\'000)']\n",
    "        except (KeyError, IndexError):\n",
    "            t0Volume = np.NaN\n",
    "    \n",
    "    try:\n",
    "        t1Volume = data.iloc[1]['Share Volume (000)']\n",
    "    except (KeyError, IndexError):\n",
    "        try:\n",
    "            t1Volume = data.iloc[1]['Share Volume (\\'000)']\n",
    "        except (KeyError, IndexError):\n",
    "            t1Volume = np.NaN\n",
    "            \n",
    "    try:\n",
    "        t2Volume = data.iloc[2]['Share Volume (000)']\n",
    "    except (KeyError, IndexError):\n",
    "        try:\n",
    "            t2Volume = data.iloc[2]['Share Volume (\\'000)']\n",
    "        except (KeyError, IndexError):\n",
    "            t2Volume = np.NaN\n",
    "        \n",
    "        \n",
    "\n",
    "    finalDataFrame = finalDataFrame.append(\n",
    "        pd.Series(\n",
    "            [\n",
    "                f'{symbol:05}',\n",
    "                latestPrice,\n",
    "                'N/A',\n",
    "                str(data.iloc[0].name.date()),\n",
    "                t0Volume * 1000,\n",
    "                t1Volume * 1000,\n",
    "                'N/A',\n",
    "                t2Volume * 1000,\n",
    "                'N/A',\n",
    "            ],\n",
    "            index = finalDataFrameColumns\n",
    "        ),\n",
    "        ignore_index = True\n",
    "    )"
   ]
  },
  {
   "cell_type": "code",
   "execution_count": null,
   "id": "imposed-tamil",
   "metadata": {},
   "outputs": [],
   "source": [
    "finalDataFrame"
   ]
  },
  {
   "cell_type": "markdown",
   "id": "sorted-philosophy",
   "metadata": {},
   "source": [
    "## Data Cleaning"
   ]
  },
  {
   "cell_type": "markdown",
   "id": "interior-twelve",
   "metadata": {},
   "source": [
    "Clean out data with None from API"
   ]
  },
  {
   "cell_type": "code",
   "execution_count": null,
   "id": "thorough-arrangement",
   "metadata": {},
   "outputs": [],
   "source": [
    "finalDataFrame[finalDataFrame.isnull().any(axis = 1)]\n",
    "# finalDataFrame[finalDataFrame['Price'].isnull()]"
   ]
  },
  {
   "cell_type": "code",
   "execution_count": null,
   "id": "agreed-irish",
   "metadata": {},
   "outputs": [],
   "source": [
    "finalDataFrame = finalDataFrame.dropna()\n",
    "finalDataFrame"
   ]
  },
  {
   "cell_type": "markdown",
   "id": "occupied-poker",
   "metadata": {},
   "source": [
    "Drop data with 0 Volume"
   ]
  },
  {
   "cell_type": "code",
   "execution_count": null,
   "id": "welcome-funds",
   "metadata": {},
   "outputs": [],
   "source": [
    "finalDataFrame[\n",
    "    (finalDataFrame['T2 Volume'] == 0)\n",
    "]"
   ]
  },
  {
   "cell_type": "code",
   "execution_count": null,
   "id": "stock-serial",
   "metadata": {},
   "outputs": [],
   "source": [
    "finalDataFrame.drop(\n",
    "    finalDataFrame[\n",
    "        (finalDataFrame['T2 Volume'] == 0)\n",
    "    ].index,\n",
    "    inplace = True\n",
    ")\n",
    "finalDataFrame"
   ]
  },
  {
   "cell_type": "markdown",
   "id": "periodic-april",
   "metadata": {},
   "source": [
    "## Calculation\n",
    "\n",
    "Calculate Volume change Ratio"
   ]
  },
  {
   "cell_type": "code",
   "execution_count": null,
   "id": "democratic-large",
   "metadata": {},
   "outputs": [],
   "source": [
    "for row in finalDataFrame.index:\n",
    "    finalDataFrame.loc[row, 'T1 Volume Ratio'] = finalDataFrame.loc[row, 'T1 Volume'] / finalDataFrame.loc[row, 'T0 Volume']\n",
    "    finalDataFrame.loc[row, 'T2 Volume Ratio'] = finalDataFrame.loc[row, 'T2 Volume'] / finalDataFrame.loc[row, 'T1 Volume']\n",
    "    \n",
    "finalDataFrame"
   ]
  },
  {
   "cell_type": "markdown",
   "id": "embedded-cleaners",
   "metadata": {},
   "source": [
    "## Screening\n",
    "\n",
    "Screening criteria are as follow:\n",
    "\n",
    "- T2 Volume is below 25% of T1"
   ]
  },
  {
   "cell_type": "code",
   "execution_count": null,
   "id": "sensitive-comparison",
   "metadata": {},
   "outputs": [],
   "source": [
    "t2traget = float(0.25)\n",
    "\n",
    "finalDataFrame = finalDataFrame[\n",
    "    (finalDataFrame['T2 Volume Ratio'] < t2traget)\n",
    "]\n",
    "finalDataFrame.sort_values(\n",
    "    'Ticker',\n",
    "    ascending = True,\n",
    "    inplace = True\n",
    ")\n",
    "finalDataFrame.reset_index(inplace = True, drop = True)\n",
    "\n",
    "finalDataFrame"
   ]
  },
  {
   "cell_type": "markdown",
   "id": "moved-nelson",
   "metadata": {},
   "source": [
    "## Add 30 days average\n",
    "\n",
    "As Nasdaq API did not return 30-days-average, we have to calculate ourselves."
   ]
  },
  {
   "cell_type": "code",
   "execution_count": null,
   "id": "complete-rapid",
   "metadata": {},
   "outputs": [],
   "source": [
    "for row in finalDataFrame.index:\n",
    "    symbol = finalDataFrame.loc[row, 'Ticker']\n",
    "    averageVolume = nasdaqdatalink.get(f'HKEX/{symbol}',\n",
    "                                       column_index=10,\n",
    "                                       rows=30,\n",
    "                                       order='asc',\n",
    "                                      ).mean() * 1000\n",
    "    finalDataFrame.loc[row, '30 day Average Volume'] = float(averageVolume)\n",
    "\n",
    "finalDataFrame"
   ]
  },
  {
   "cell_type": "markdown",
   "id": "minute-astrology",
   "metadata": {},
   "source": [
    "## Data Export"
   ]
  },
  {
   "cell_type": "code",
   "execution_count": null,
   "id": "material-communications",
   "metadata": {},
   "outputs": [],
   "source": [
    "from datetime import date\n",
    "import os\n",
    "\n",
    "today = date.today().strftime(\"%Y%m%d\")\n",
    "folderName = f'../export/{today}'\n",
    "fileName = f'{folderName}/yau4muk6man4_strategy_HK_{today}_volume_drop'\n",
    "folderName = f'../export/{today}/'\n",
    "csvFileName = f'{fileName}.csv'\n",
    "xlsxFileName = f'{fileName}.xlsx'\n",
    "sheetName = f'{today} Volume Drop'"
   ]
  },
  {
   "cell_type": "code",
   "execution_count": null,
   "id": "executed-bulgarian",
   "metadata": {},
   "outputs": [],
   "source": [
    "try:\n",
    "    os.mkdir(folderName)\n",
    "    print(\"Directory \" , folderName ,  \" Created \") \n",
    "except FileExistsError:\n",
    "    print(\"Directory \" , folderName ,  \" already exists\")"
   ]
  },
  {
   "cell_type": "markdown",
   "id": "pediatric-leather",
   "metadata": {},
   "source": [
    "Export to xlsx"
   ]
  },
  {
   "cell_type": "code",
   "execution_count": null,
   "id": "posted-dominican",
   "metadata": {},
   "outputs": [],
   "source": [
    "writer = pd.ExcelWriter(xlsxFileName, engine = 'xlsxwriter')\n",
    "finalDataFrame.to_excel(writer, sheet_name = sheetName, index = False)"
   ]
  },
  {
   "cell_type": "code",
   "execution_count": null,
   "id": "western-laptop",
   "metadata": {},
   "outputs": [],
   "source": [
    "backgroundColor = '#0a0a23'\n",
    "fontColor = '#ffffff'\n",
    "\n",
    "stringTemplate = writer.book.add_format(\n",
    "        {\n",
    "            'font_color': fontColor,\n",
    "            'bg_color': backgroundColor,\n",
    "            'border': 1\n",
    "        }\n",
    "    )\n",
    "\n",
    "dollarTemplate = writer.book.add_format(\n",
    "        {\n",
    "            'num_format':'$0.00',\n",
    "            'font_color': fontColor,\n",
    "            'bg_color': backgroundColor,\n",
    "            'border': 1\n",
    "        }\n",
    "    )\n",
    "\n",
    "integerTemplate = writer.book.add_format(\n",
    "        {\n",
    "            'num_format':'#,###',\n",
    "            'font_color': fontColor,\n",
    "            'bg_color': backgroundColor,\n",
    "            'border': 1\n",
    "        }\n",
    "    )\n",
    "\n",
    "floatTemplate = writer.book.add_format(\n",
    "        {\n",
    "            'num_format':'0.0',\n",
    "            'font_color': fontColor,\n",
    "            'bg_color': backgroundColor,\n",
    "            'border': 1\n",
    "        }\n",
    "    )\n",
    "\n",
    "percentTemplate = writer.book.add_format(\n",
    "        {\n",
    "            'num_format':'0.0%',\n",
    "            'font_color': fontColor,\n",
    "            'bg_color': backgroundColor,\n",
    "            'border': 1\n",
    "        }\n",
    "    )"
   ]
  },
  {
   "cell_type": "code",
   "execution_count": null,
   "id": "narrow-theorem",
   "metadata": {},
   "outputs": [],
   "source": [
    "columnFormats = {\n",
    "    'A': ['Ticker', stringTemplate],\n",
    "    'B': ['Price', dollarTemplate],\n",
    "    'C': ['30 day Average Volume', integerTemplate],\n",
    "    'D': ['T0 Date', stringTemplate],\n",
    "    'E': ['T0 Volume', integerTemplate],\n",
    "    'F': ['T1 Volume', integerTemplate],\n",
    "    'G': ['T1 Volume Ratio', percentTemplate],\n",
    "    'H': ['T2 Volume', integerTemplate],\n",
    "    'I': ['T2 Volume Ratio', percentTemplate],\n",
    "}\n",
    "\n",
    "for column in columnFormats.keys():\n",
    "    writer.sheets[sheetName].set_column(\n",
    "        f'{column}:{column}',\n",
    "        max(len(columnFormats[column][0]), 10),\n",
    "        columnFormats[column][1]\n",
    "    )\n",
    "    writer.sheets[sheetName].write(\n",
    "        f'{column}1',\n",
    "        columnFormats[column][0],\n",
    "        columnFormats[column][1]\n",
    "    )"
   ]
  },
  {
   "cell_type": "code",
   "execution_count": null,
   "id": "sunset-confirmation",
   "metadata": {},
   "outputs": [],
   "source": [
    "writer.save()"
   ]
  },
  {
   "cell_type": "markdown",
   "id": "fleet-namibia",
   "metadata": {},
   "source": [
    "## Telegram"
   ]
  },
  {
   "cell_type": "code",
   "execution_count": null,
   "id": "chemical-jason",
   "metadata": {},
   "outputs": [],
   "source": [
    "import telegram\n",
    "from secrets import TELEGRAM_CHAT_ID\n",
    "from secrets import TELEGRAM_API_TOKEN"
   ]
  },
  {
   "cell_type": "code",
   "execution_count": null,
   "id": "adjusted-wrong",
   "metadata": {},
   "outputs": [],
   "source": [
    "telegramBot = telegram.Bot(TELEGRAM_API_TOKEN)\n",
    "telegramBot"
   ]
  },
  {
   "cell_type": "code",
   "execution_count": null,
   "id": "silent-mongolia",
   "metadata": {},
   "outputs": [],
   "source": [
    "txt = f'''\n",
    "⬇️⬇️⬇️ {today} Volume Drop ⬇️⬇️⬇️\n",
    "\n",
    "This is report of stock that have drop in volume during current trading period ({today}).\n",
    "We have {len(potentialStocks.index)} potential stock(s), in which {len(finalDataFrame.index)} have a low volume now.\n",
    "\n",
    "Drop Ticker:\n",
    "{','.join(finalDataFrame['Ticker'])}\n",
    "\n",
    "Detail as in follow xlsx.\n",
    "'''\n",
    "\n",
    "output = open(xlsxFileName, 'rb')"
   ]
  },
  {
   "cell_type": "code",
   "execution_count": null,
   "id": "accessible-personal",
   "metadata": {},
   "outputs": [],
   "source": [
    "if SEND_TELEGRAM:\n",
    "    telegramBot.send_message(TELEGRAM_CHAT_ID, txt)\n",
    "    telegramBot.send_document(TELEGRAM_CHAT_ID, output)"
   ]
  },
  {
   "cell_type": "code",
   "execution_count": null,
   "id": "rising-addition",
   "metadata": {},
   "outputs": [],
   "source": []
  }
 ],
 "metadata": {
  "kernelspec": {
   "display_name": "Python 3",
   "language": "python",
   "name": "python3"
  },
  "language_info": {
   "codemirror_mode": {
    "name": "ipython",
    "version": 3
   },
   "file_extension": ".py",
   "mimetype": "text/x-python",
   "name": "python",
   "nbconvert_exporter": "python",
   "pygments_lexer": "ipython3",
   "version": "3.9.13"
  }
 },
 "nbformat": 4,
 "nbformat_minor": 5
}
