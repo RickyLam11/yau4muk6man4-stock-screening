{
 "cells": [
  {
   "cell_type": "markdown",
   "id": "patent-alarm",
   "metadata": {},
   "source": [
    "# HK Stock Screening (Post Market) v0\n",
    "\n",
    "In this notebook we try to achieve\n",
    "- Introduce Nasdaq API\n",
    "- Screen HK Common Stock with previous day Volume\n",
    "\n",
    "Timeline as follow:\n",
    "\n",
    "|| T0 | T1 | T2 | T3 |\n",
    "| --- | --- | --- | --- | --- |\n",
    "| Expected trend | x | Volume Rise | Volume Drop | Price Rise |\n",
    "| Action | x | **Create Potential Stocks List** | Enter Market near day end | |"
   ]
  },
  {
   "cell_type": "markdown",
   "id": "separate-driver",
   "metadata": {},
   "source": [
    "Import Library"
   ]
  },
  {
   "cell_type": "code",
   "execution_count": null,
   "id": "sunset-punishment",
   "metadata": {},
   "outputs": [],
   "source": [
    "import numpy as np\n",
    "import pandas as pd\n",
    "import requests\n",
    "import xlsxwriter\n",
    "import math\n",
    "from scipy import stats\n",
    "import nasdaqdatalink\n",
    "from datetime import date"
   ]
  },
  {
   "cell_type": "markdown",
   "id": "domestic-craps",
   "metadata": {},
   "source": [
    "Import Token"
   ]
  },
  {
   "cell_type": "code",
   "execution_count": null,
   "id": "printable-plane",
   "metadata": {},
   "outputs": [],
   "source": [
    "from secrets import NASDAQ_API_TOKEN\n",
    "nasdaqdatalink.ApiConfig.api_key = NASDAQ_API_TOKEN\n",
    "SEND_TELEGRAM = False"
   ]
  },
  {
   "cell_type": "markdown",
   "id": "meaning-secret",
   "metadata": {},
   "source": [
    "Nasdaq Data Link API test call"
   ]
  },
  {
   "cell_type": "code",
   "execution_count": null,
   "id": "executive-amazon",
   "metadata": {},
   "outputs": [],
   "source": [
    "data = nasdaqdatalink.get('HKEX/06823',\n",
    "#                           column_index=10,\n",
    "                          rows=2,\n",
    "                          order='asc',\n",
    "#                           end_date=\"2022-07-07\",\n",
    "                         )\n",
    "data"
   ]
  },
  {
   "cell_type": "markdown",
   "id": "suffering-optimization",
   "metadata": {},
   "source": [
    "## Preparation\n",
    "\n",
    "Fetch all available symbol from pre-generate csv [(Link)](https://data.nasdaq.com/data/HKEX-hong-kong-exchange/documentation?anchor=data-organization) ."
   ]
  },
  {
   "cell_type": "code",
   "execution_count": null,
   "id": "material-welsh",
   "metadata": {},
   "outputs": [],
   "source": [
    "allHkSymbolsDataFrame = data = pd.read_csv(\n",
    "    f'https://data.nasdaq.com/api/v3/databases/HKEX/metadata?api_key={NASDAQ_API_TOKEN}',\n",
    "    compression='zip'\n",
    ")\n",
    "allHkSymbolsDataFrame"
   ]
  },
  {
   "cell_type": "markdown",
   "id": "overall-sending",
   "metadata": {},
   "source": [
    "Filter all non common stock"
   ]
  },
  {
   "cell_type": "code",
   "execution_count": null,
   "id": "concerned-accused",
   "metadata": {},
   "outputs": [],
   "source": [
    "allHkSymbolsDataFrame[\n",
    "    ('00000' ==  allHkSymbolsDataFrame['code']) |\n",
    "    ('09999' < allHkSymbolsDataFrame['code'])\n",
    "]"
   ]
  },
  {
   "cell_type": "code",
   "execution_count": null,
   "id": "continued-power",
   "metadata": {},
   "outputs": [],
   "source": [
    "allHkSymbolsDataFrame.drop(\n",
    "    allHkSymbolsDataFrame[\n",
    "        ('00000' ==  allHkSymbolsDataFrame['code']) |\n",
    "        ('09999' < allHkSymbolsDataFrame['code'])\n",
    "    ].index,\n",
    "    inplace = True\n",
    ")\n",
    "allHkSymbolsDataFrame"
   ]
  },
  {
   "cell_type": "markdown",
   "id": "personal-relative",
   "metadata": {},
   "source": [
    "Drop row that don't have latest data / have already stop update"
   ]
  },
  {
   "cell_type": "code",
   "execution_count": null,
   "id": "italic-classic",
   "metadata": {},
   "outputs": [],
   "source": [
    "allHkSymbolsDataFrame[\n",
    "    (allHkSymbolsDataFrame['to_date'] < str(date.today()))\n",
    "]"
   ]
  },
  {
   "cell_type": "code",
   "execution_count": null,
   "id": "funded-perception",
   "metadata": {},
   "outputs": [],
   "source": [
    "allHkSymbolsDataFrame.drop(\n",
    "    allHkSymbolsDataFrame[\n",
    "        (allHkSymbolsDataFrame['to_date'] < str(date.today()))\n",
    "    ].index,\n",
    "    inplace = True\n",
    ")\n",
    "allHkSymbolsDataFrame"
   ]
  },
  {
   "cell_type": "markdown",
   "id": "facial-painting",
   "metadata": {},
   "source": [
    "## Data Fetching\n",
    "\n",
    "Create main DataFrame, including volume of today, previous trading date.\n",
    "\n",
    "In order to get the previous trading date, we need to call **/previous**, or else we can use **/quote/previousVolume** directly\n",
    "\n",
    "Data imported from IEX Cloud API."
   ]
  },
  {
   "cell_type": "code",
   "execution_count": null,
   "id": "color-columbia",
   "metadata": {},
   "outputs": [],
   "source": [
    "%%time\n",
    "\n",
    "potentialDataFrameColumns = [\n",
    "    'Ticker',\n",
    "    'Price',\n",
    "    '30 day Average Volume',\n",
    "    'T0 Date',\n",
    "    'T0 Volume',\n",
    "    'T1 Volume',\n",
    "    'T1 Volume Ratio',\n",
    "]\n",
    "\n",
    "potentialDataFrame = pd.DataFrame(columns = potentialDataFrameColumns)\n",
    "\n",
    "for hkSymbol in allHkSymbolsDataFrame['code']:\n",
    "    data = nasdaqdatalink.get(f'HKEX/{hkSymbol}',\n",
    "                              rows=2,\n",
    "                              order='asc'\n",
    "                             )\n",
    "#     print(data)\n",
    "\n",
    "    try:\n",
    "        latestPrice = data.iloc[1]['Nominal Price']\n",
    "    except (KeyError, IndexError):\n",
    "        latestPrice = np.NaN\n",
    "\n",
    "    try:\n",
    "        t0Volume = data.iloc[0]['Share Volume (000)'] * 1000\n",
    "    except (KeyError, IndexError):\n",
    "        try:\n",
    "            t0Volume = data.iloc[0]['Share Volume (\\'000)'] * 1000\n",
    "        except (KeyError, IndexError):\n",
    "            t0Volume = np.NaN\n",
    "\n",
    "    try:\n",
    "        t1Volume = data.iloc[1]['Share Volume (000)'] * 1000\n",
    "    except (KeyError, IndexError):\n",
    "        try:\n",
    "            t1Volume = data.iloc[1]['Share Volume (\\'000)'] * 1000\n",
    "        except (KeyError, IndexError):\n",
    "            t1Volume = np.NaN\n",
    "    \n",
    "    potentialDataFrame = potentialDataFrame.append(\n",
    "        pd.Series(\n",
    "            [\n",
    "                hkSymbol,\n",
    "                latestPrice,\n",
    "                'N/A',\n",
    "                str(data.iloc[0].name.date()),\n",
    "                t0Volume,\n",
    "                t1Volume,\n",
    "                'N/A'\n",
    "            ],\n",
    "            index = potentialDataFrameColumns\n",
    "        ),\n",
    "        ignore_index = True\n",
    "    )"
   ]
  },
  {
   "cell_type": "code",
   "execution_count": null,
   "id": "level-receptor",
   "metadata": {},
   "outputs": [],
   "source": [
    "potentialDataFrame"
   ]
  },
  {
   "cell_type": "markdown",
   "id": "nutritional-semiconductor",
   "metadata": {},
   "source": [
    "## Data Cleaning"
   ]
  },
  {
   "cell_type": "markdown",
   "id": "interior-twelve",
   "metadata": {},
   "source": [
    "Clean out data with None from API"
   ]
  },
  {
   "cell_type": "code",
   "execution_count": null,
   "id": "connected-techno",
   "metadata": {},
   "outputs": [],
   "source": [
    "potentialDataFrame[potentialDataFrame.isnull().any(axis = 1)]\n",
    "# potentialDataFrame[potentialDataFrame['Price'].isnull()]"
   ]
  },
  {
   "cell_type": "code",
   "execution_count": null,
   "id": "agreed-irish",
   "metadata": {},
   "outputs": [],
   "source": [
    "potentialDataFrame = potentialDataFrame.dropna()\n",
    "potentialDataFrame"
   ]
  },
  {
   "cell_type": "markdown",
   "id": "occupied-poker",
   "metadata": {},
   "source": [
    "Drop data with 0 Volume"
   ]
  },
  {
   "cell_type": "code",
   "execution_count": null,
   "id": "welcome-funds",
   "metadata": {},
   "outputs": [],
   "source": [
    "potentialDataFrame[\n",
    "    (potentialDataFrame['T0 Volume'] == 0) |\n",
    "    (potentialDataFrame['T1 Volume'] == 0)\n",
    "]"
   ]
  },
  {
   "cell_type": "code",
   "execution_count": null,
   "id": "stock-serial",
   "metadata": {},
   "outputs": [],
   "source": [
    "potentialDataFrame.drop(\n",
    "    potentialDataFrame[\n",
    "        (potentialDataFrame['T0 Volume'] == 0) |\n",
    "        (potentialDataFrame['T1 Volume'] == 0)\n",
    "    ].index,\n",
    "    inplace = True\n",
    ")\n",
    "potentialDataFrame"
   ]
  },
  {
   "cell_type": "markdown",
   "id": "periodic-april",
   "metadata": {},
   "source": [
    "## Calculation\n",
    "\n",
    "Calculate Volume Ratio"
   ]
  },
  {
   "cell_type": "code",
   "execution_count": null,
   "id": "democratic-large",
   "metadata": {},
   "outputs": [],
   "source": [
    "for row in potentialDataFrame.index:\n",
    "    potentialDataFrame.loc[row, 'T1 Volume Ratio'] = potentialDataFrame.loc[row, 'T1 Volume'] / potentialDataFrame.loc[row, 'T0 Volume']\n",
    "    \n",
    "potentialDataFrame"
   ]
  },
  {
   "cell_type": "markdown",
   "id": "wooden-local",
   "metadata": {},
   "source": [
    "## Screening\n",
    "\n",
    "Screening criteria are as follow:\n",
    "\n",
    "- Average Volume can't be too low\n",
    "- T1 Volume can't be too low\n",
    "- T1 Volume is more than 5 times of T0"
   ]
  },
  {
   "cell_type": "code",
   "execution_count": null,
   "id": "informative-trick",
   "metadata": {},
   "outputs": [],
   "source": [
    "volumeLowerBound = float(2e6)\n",
    "t1traget = float(5)\n",
    "\n",
    "potentialDataFrame = potentialDataFrame[\n",
    "#     (volumeLowerBound < potentialDataFrame['30 day Average Volume']) &\n",
    "#     (volumeLowerBound < potentialDataFrame['T1 Volume']) &\n",
    "    (t1traget < potentialDataFrame['T1 Volume Ratio'])\n",
    "]\n",
    "potentialDataFrame.sort_values(\n",
    "    'Ticker',\n",
    "    ascending = True,\n",
    "    inplace = True\n",
    ")\n",
    "potentialDataFrame.reset_index(inplace = True, drop = True)\n",
    "\n",
    "potentialDataFrame"
   ]
  },
  {
   "cell_type": "code",
   "execution_count": null,
   "id": "needed-dialogue",
   "metadata": {},
   "outputs": [],
   "source": [
    "','.join(potentialDataFrame['Ticker'].to_list())"
   ]
  },
  {
   "cell_type": "markdown",
   "id": "offensive-legislation",
   "metadata": {},
   "source": [
    "## Add 30 days average\n",
    "\n",
    "As Nasdaq API did not return 30-days-average, we have to calculate ourselves."
   ]
  },
  {
   "cell_type": "code",
   "execution_count": null,
   "id": "monthly-newton",
   "metadata": {},
   "outputs": [],
   "source": [
    "for row in potentialDataFrame.index:\n",
    "    symbol = potentialDataFrame.loc[row, 'Ticker']\n",
    "    averageVolume = nasdaqdatalink.get(f'HKEX/{symbol}',\n",
    "                                       column_index=10,\n",
    "                                       rows=30,\n",
    "                                       order='asc',\n",
    "                                       end_date=\"2022-07-06\",\n",
    "                                      ).mean() * 1000\n",
    "    potentialDataFrame.loc[row, '30 day Average Volume'] = float(averageVolume)\n",
    "\n",
    "potentialDataFrame"
   ]
  },
  {
   "cell_type": "markdown",
   "id": "accepted-relation",
   "metadata": {},
   "source": [
    "## Data Export\n",
    "\n",
    "For the ease of the next programe, we will also export the file in CSV version."
   ]
  },
  {
   "cell_type": "code",
   "execution_count": null,
   "id": "narrow-protest",
   "metadata": {},
   "outputs": [],
   "source": [
    "from datetime import date\n",
    "import os\n",
    "\n",
    "today = date.today().strftime(\"%Y%m%d\")\n",
    "folderName = f'../export/{today}'\n",
    "fileName = f'{folderName}/yau4muk6man4_strategy_HK_{today}_volume_rise'\n",
    "csvFileName = f'{fileName}.csv'\n",
    "xlsxFileName = f'{fileName}.xlsx'\n",
    "sheetName = f'{today} Volume Rise'"
   ]
  },
  {
   "cell_type": "code",
   "execution_count": null,
   "id": "together-rates",
   "metadata": {},
   "outputs": [],
   "source": [
    "try:\n",
    "    os.mkdir(folderName)\n",
    "    print(\"Directory \" , folderName ,  \" Created \") \n",
    "except FileExistsError:\n",
    "    print(\"Directory \" , folderName ,  \" already exists\")"
   ]
  },
  {
   "cell_type": "markdown",
   "id": "middle-energy",
   "metadata": {},
   "source": [
    "Export to csv"
   ]
  },
  {
   "cell_type": "code",
   "execution_count": null,
   "id": "european-prisoner",
   "metadata": {},
   "outputs": [],
   "source": [
    "potentialDataFrame.to_csv(csvFileName, index = False)"
   ]
  },
  {
   "cell_type": "markdown",
   "id": "ready-comedy",
   "metadata": {},
   "source": [
    "Export to xlsx"
   ]
  },
  {
   "cell_type": "code",
   "execution_count": null,
   "id": "aboriginal-motor",
   "metadata": {},
   "outputs": [],
   "source": [
    "writer = pd.ExcelWriter(xlsxFileName, engine = 'xlsxwriter')\n",
    "potentialDataFrame.to_excel(writer, sheet_name = sheetName, index = False)"
   ]
  },
  {
   "cell_type": "code",
   "execution_count": null,
   "id": "black-sampling",
   "metadata": {},
   "outputs": [],
   "source": [
    "backgroundColor = '#0a0a23'\n",
    "fontColor = '#ffffff'\n",
    "\n",
    "stringTemplate = writer.book.add_format(\n",
    "        {\n",
    "            'font_color': fontColor,\n",
    "            'bg_color': backgroundColor,\n",
    "            'border': 1\n",
    "        }\n",
    "    )\n",
    "\n",
    "dollarTemplate = writer.book.add_format(\n",
    "        {\n",
    "            'num_format':'$0.00',\n",
    "            'font_color': fontColor,\n",
    "            'bg_color': backgroundColor,\n",
    "            'border': 1\n",
    "        }\n",
    "    )\n",
    "\n",
    "integerTemplate = writer.book.add_format(\n",
    "        {\n",
    "            'num_format':'#,###',\n",
    "            'font_color': fontColor,\n",
    "            'bg_color': backgroundColor,\n",
    "            'border': 1\n",
    "        }\n",
    "    )\n",
    "\n",
    "floatTemplate = writer.book.add_format(\n",
    "        {\n",
    "            'num_format':'0.0',\n",
    "            'font_color': fontColor,\n",
    "            'bg_color': backgroundColor,\n",
    "            'border': 1\n",
    "        }\n",
    "    )\n",
    "\n",
    "percentTemplate = writer.book.add_format(\n",
    "        {\n",
    "            'num_format':'0.0%',\n",
    "            'font_color': fontColor,\n",
    "            'bg_color': backgroundColor,\n",
    "            'border': 1\n",
    "        }\n",
    "    )"
   ]
  },
  {
   "cell_type": "code",
   "execution_count": null,
   "id": "together-buffer",
   "metadata": {},
   "outputs": [],
   "source": [
    "columnFormats = {\n",
    "    'A': ['Ticker', stringTemplate],\n",
    "    'B': ['Price', dollarTemplate],\n",
    "    'C': ['30 day Average Volume', integerTemplate],\n",
    "    'D': ['T0 Date', stringTemplate],\n",
    "    'E': ['T0 Volume', integerTemplate],\n",
    "    'F': ['T1 Volume', integerTemplate],\n",
    "    'G': ['T1 Volume Ratio', percentTemplate],\n",
    "}\n",
    "\n",
    "for column in columnFormats.keys():\n",
    "    writer.sheets[sheetName].set_column(\n",
    "        f'{column}:{column}',\n",
    "        max(len(columnFormats[column][0]), 10),\n",
    "        columnFormats[column][1]\n",
    "    )\n",
    "    writer.sheets[sheetName].write(\n",
    "        f'{column}1',\n",
    "        columnFormats[column][0],\n",
    "        columnFormats[column][1]\n",
    "    )"
   ]
  },
  {
   "cell_type": "code",
   "execution_count": null,
   "id": "biblical-oxygen",
   "metadata": {},
   "outputs": [],
   "source": [
    "writer.save()"
   ]
  },
  {
   "cell_type": "markdown",
   "id": "significant-chemistry",
   "metadata": {},
   "source": [
    "## Telegram"
   ]
  },
  {
   "cell_type": "code",
   "execution_count": null,
   "id": "interior-fighter",
   "metadata": {},
   "outputs": [],
   "source": [
    "import telegram\n",
    "from secrets import TELEGRAM_CHAT_ID\n",
    "from secrets import TELEGRAM_API_TOKEN"
   ]
  },
  {
   "cell_type": "code",
   "execution_count": null,
   "id": "informative-advocacy",
   "metadata": {},
   "outputs": [],
   "source": [
    "telegramBot = telegram.Bot(TELEGRAM_API_TOKEN)\n",
    "telegramBot"
   ]
  },
  {
   "cell_type": "code",
   "execution_count": null,
   "id": "liquid-professional",
   "metadata": {},
   "outputs": [],
   "source": [
    "txt = f'''\n",
    "⬆️⬆️⬆️ {today} Volume Rise ⬆️⬆️⬆️\n",
    "\n",
    "This is report of stock that have rise in volume during {today}.\n",
    "We have found {len(potentialDataFrame.index)} stock(s) that match the screening requirements.\n",
    "\n",
    "Rise Ticker:\n",
    "{','.join(potentialDataFrame['Ticker'])}\n",
    "\n",
    "Detail as in follow xlsx.\n",
    "'''\n",
    "\n",
    "output = open(xlsxFileName, 'rb')"
   ]
  },
  {
   "cell_type": "code",
   "execution_count": null,
   "id": "diverse-publicity",
   "metadata": {},
   "outputs": [],
   "source": [
    "if SEND_TELEGRAM:\n",
    "    telegramBot.send_message(TELEGRAM_CHAT_ID, txt)\n",
    "    telegramBot.send_document(TELEGRAM_CHAT_ID, output)"
   ]
  },
  {
   "cell_type": "code",
   "execution_count": null,
   "id": "varied-history",
   "metadata": {},
   "outputs": [],
   "source": []
  },
  {
   "cell_type": "code",
   "execution_count": null,
   "id": "brilliant-tattoo",
   "metadata": {},
   "outputs": [],
   "source": []
  },
  {
   "cell_type": "code",
   "execution_count": null,
   "id": "lesser-pickup",
   "metadata": {},
   "outputs": [],
   "source": []
  },
  {
   "cell_type": "code",
   "execution_count": null,
   "id": "informed-greeting",
   "metadata": {},
   "outputs": [],
   "source": []
  }
 ],
 "metadata": {
  "kernelspec": {
   "display_name": "Python 3",
   "language": "python",
   "name": "python3"
  },
  "language_info": {
   "codemirror_mode": {
    "name": "ipython",
    "version": 3
   },
   "file_extension": ".py",
   "mimetype": "text/x-python",
   "name": "python",
   "nbconvert_exporter": "python",
   "pygments_lexer": "ipython3",
   "version": "3.9.13"
  }
 },
 "nbformat": 4,
 "nbformat_minor": 5
}
