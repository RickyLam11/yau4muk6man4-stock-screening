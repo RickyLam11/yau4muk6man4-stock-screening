{
 "cells": [
  {
   "cell_type": "markdown",
   "id": "patent-alarm",
   "metadata": {},
   "source": [
    "# US Stock Screening (Post Market) v0\n",
    "\n",
    "In this notebook we try to achieve\n",
    "- Screen US Common Stock with previous day Volume\n",
    "- Send Telegram notice\n",
    "\n",
    "Timeline as follow:\n",
    "\n",
    "|| T0 | T1 | T2 | T3 |\n",
    "| --- | --- | --- | --- | --- |\n",
    "| Expected trend | x | Volume Rise | Volume Drop | Price Rise |\n",
    "| Action | x | **Create Potential Stocks List** | Enter Market near day end | |"
   ]
  },
  {
   "cell_type": "markdown",
   "id": "separate-driver",
   "metadata": {},
   "source": [
    "Import Library"
   ]
  },
  {
   "cell_type": "code",
   "execution_count": null,
   "id": "sunset-punishment",
   "metadata": {},
   "outputs": [],
   "source": [
    "import numpy as np\n",
    "import pandas as pd\n",
    "import requests\n",
    "import xlsxwriter\n",
    "import math\n",
    "from scipy import stats"
   ]
  },
  {
   "cell_type": "markdown",
   "id": "domestic-craps",
   "metadata": {},
   "source": [
    "Import Token"
   ]
  },
  {
   "cell_type": "code",
   "execution_count": null,
   "id": "printable-plane",
   "metadata": {},
   "outputs": [],
   "source": [
    "# from secrets import IEX_SANDBOX_API_TOKEN as IEX_CLOUD_API_TOKEN\n",
    "# baseUrl = f'https://sandbox.iexapis.com/stable'\n",
    "# SEND_TELEGRAM = False\n",
    "\n",
    "from secrets import IEX_CLOUD_API_TOKEN\n",
    "baseUrl = f'https://cloud.iexapis.com/stable'\n",
    "SEND_TELEGRAM = True"
   ]
  },
  {
   "cell_type": "markdown",
   "id": "meaning-secret",
   "metadata": {},
   "source": [
    "IEX Cloud API test call"
   ]
  },
  {
   "cell_type": "code",
   "execution_count": null,
   "id": "executive-amazon",
   "metadata": {},
   "outputs": [],
   "source": [
    "symbol = 'AMZN'\n",
    "symbolString = 'AAPL,TSLA,BIAF,AMZN'\n",
    "\n",
    "# quote of a stock\n",
    "batchQuotePreviousUrl = f'/stock/market/batch?symbols={symbolString}&types=quote,previous&token={IEX_CLOUD_API_TOKEN}'\n",
    "\n",
    "apiUrl = baseUrl + batchQuotePreviousUrl\n",
    "# data = requests.get(apiUrl)\n",
    "# print(data.status_code)\n",
    "# print(data.text)\n",
    "# data = requests.get(apiUrl).json()\n",
    "# data"
   ]
  },
  {
   "cell_type": "markdown",
   "id": "suffering-optimization",
   "metadata": {},
   "source": [
    "## Preparation\n",
    "\n",
    "Fetch all available symbol, filter with \"US\" and \"common stock\"."
   ]
  },
  {
   "cell_type": "code",
   "execution_count": null,
   "id": "material-welsh",
   "metadata": {},
   "outputs": [],
   "source": [
    "refDataUrl = f'/ref-data/symbols?token={IEX_CLOUD_API_TOKEN}'\n",
    "apiUrl = baseUrl + refDataUrl\n",
    "\n",
    "data = requests.get(apiUrl).json()\n",
    "# data"
   ]
  },
  {
   "cell_type": "code",
   "execution_count": null,
   "id": "exceptional-brave",
   "metadata": {},
   "outputs": [],
   "source": [
    "allSymbolsDataFrame = pd.json_normalize(data)"
   ]
  },
  {
   "cell_type": "code",
   "execution_count": null,
   "id": "occasional-setting",
   "metadata": {},
   "outputs": [],
   "source": [
    "allUsSymbolsDataFrame = allSymbolsDataFrame[\n",
    "    (allSymbolsDataFrame['type'] == 'cs') &\n",
    "    (allSymbolsDataFrame['region'] == 'US')\n",
    "]\n",
    "allUsSymbolsDataFrame"
   ]
  },
  {
   "cell_type": "markdown",
   "id": "renewable-morris",
   "metadata": {},
   "source": [
    "Define chunks to prepare for batch API call"
   ]
  },
  {
   "cell_type": "code",
   "execution_count": null,
   "id": "changing-visiting",
   "metadata": {},
   "outputs": [],
   "source": [
    "def chunks(lst, n):\n",
    "    \"\"\"Yield successive n-sized chunks from lst.\"\"\"\n",
    "    for i in range(0, len(lst), n):\n",
    "        yield lst[i:i + n]\n",
    "        \n",
    "symbolGroups = list(chunks(allUsSymbolsDataFrame['symbol'], 100))\n",
    "symbolStrings = []\n",
    "for i in range(0, len(symbolGroups)):\n",
    "    symbolStrings.append(','.join(symbolGroups[i]))\n",
    "#     print(symbol_strings[i])\n",
    "\n",
    "symbolStrings"
   ]
  },
  {
   "cell_type": "markdown",
   "id": "facial-painting",
   "metadata": {},
   "source": [
    "## Data Fetching\n",
    "\n",
    "Create main DataFrame, including volume of today, previous trading date.\n",
    "\n",
    "In order to get the previous trading date, we need to call **/previous**, or else we can use **/quote/previousVolume** directly\n",
    "\n",
    "Data imported from IEX Cloud API."
   ]
  },
  {
   "cell_type": "code",
   "execution_count": null,
   "id": "color-columbia",
   "metadata": {},
   "outputs": [],
   "source": [
    "%%time\n",
    "\n",
    "potentialDataFrameColumns = [\n",
    "    'Ticker',\n",
    "    'Price',\n",
    "    '30 day Average Volume',\n",
    "    'T0 Date',\n",
    "    'T0 Volume',\n",
    "    'T1 Volume',\n",
    "    'T1 Volume Ratio',\n",
    "]\n",
    "\n",
    "potentialDataFrame = pd.DataFrame(columns = potentialDataFrameColumns)\n",
    "\n",
    "for symbolString in symbolStrings:\n",
    "    batchApiUrlCall = baseUrl + f'/stock/market/batch?symbols={symbolString}&types=quote,previous&token={IEX_CLOUD_API_TOKEN}'\n",
    "    data = requests.get(batchApiUrlCall).json()\n",
    "#     print(data)\n",
    "#     print(data.status_code)\n",
    "    for symbol in symbolString.split(','):\n",
    "        try:\n",
    "            latestPrice = data[symbol]['quote']['latestPrice']\n",
    "        except KeyError:\n",
    "            latestPrice = np.NaN\n",
    "        try:\n",
    "            avgTotalVolume = data[symbol]['quote']['avgTotalVolume']\n",
    "        except KeyError:\n",
    "            avgTotalVolume = np.NaN\n",
    "        try:\n",
    "            latestVolume = data[symbol]['quote']['latestVolume']\n",
    "        except KeyError:\n",
    "            latestVolume = np.NaN\n",
    "            \n",
    "        try:\n",
    "            t0Date = data[symbol]['previous']['date']\n",
    "        except (KeyError, TypeError):\n",
    "            t0Date = np.NaN\n",
    "        try:\n",
    "            t0Volume = data[symbol]['previous']['volume']\n",
    "        except (KeyError, TypeError):\n",
    "            t0Volume = np.NaN\n",
    "            \n",
    "        potentialDataFrame = potentialDataFrame.append(\n",
    "            pd.Series(\n",
    "                [\n",
    "                    symbol,\n",
    "                    latestPrice,\n",
    "                    avgTotalVolume,\n",
    "                    t0Date,\n",
    "                    t0Volume,\n",
    "                    latestVolume,\n",
    "                    'N/A'\n",
    "                ],\n",
    "                index = potentialDataFrameColumns\n",
    "            ),\n",
    "            ignore_index = True\n",
    "        )"
   ]
  },
  {
   "cell_type": "code",
   "execution_count": null,
   "id": "brown-cameroon",
   "metadata": {},
   "outputs": [],
   "source": [
    "potentialDataFrame"
   ]
  },
  {
   "cell_type": "markdown",
   "id": "nutritional-semiconductor",
   "metadata": {},
   "source": [
    "## Data Cleaning"
   ]
  },
  {
   "cell_type": "markdown",
   "id": "interior-twelve",
   "metadata": {},
   "source": [
    "Clean out data with None from API"
   ]
  },
  {
   "cell_type": "code",
   "execution_count": null,
   "id": "connected-techno",
   "metadata": {},
   "outputs": [],
   "source": [
    "potentialDataFrame[potentialDataFrame.isnull().any(axis = 1)]\n",
    "# potentialDataFrame[potentialDataFrame['Price'].isnull()]"
   ]
  },
  {
   "cell_type": "code",
   "execution_count": null,
   "id": "agreed-irish",
   "metadata": {},
   "outputs": [],
   "source": [
    "potentialDataFrame = potentialDataFrame.dropna()\n",
    "potentialDataFrame"
   ]
  },
  {
   "cell_type": "markdown",
   "id": "occupied-poker",
   "metadata": {},
   "source": [
    "Drop data with 0 Volume"
   ]
  },
  {
   "cell_type": "code",
   "execution_count": null,
   "id": "welcome-funds",
   "metadata": {},
   "outputs": [],
   "source": [
    "potentialDataFrame[\n",
    "    (potentialDataFrame['T0 Volume'] == 0) |\n",
    "    (potentialDataFrame['T1 Volume'] == 0)\n",
    "]"
   ]
  },
  {
   "cell_type": "code",
   "execution_count": null,
   "id": "stock-serial",
   "metadata": {},
   "outputs": [],
   "source": [
    "potentialDataFrame.drop(\n",
    "    potentialDataFrame[\n",
    "        (potentialDataFrame['T0 Volume'] == 0) |\n",
    "        (potentialDataFrame['T1 Volume'] == 0)\n",
    "    ].index,\n",
    "    inplace = True\n",
    ")\n",
    "potentialDataFrame"
   ]
  },
  {
   "cell_type": "markdown",
   "id": "periodic-april",
   "metadata": {},
   "source": [
    "## Calculation\n",
    "\n",
    "Calculate Volume Ratio"
   ]
  },
  {
   "cell_type": "code",
   "execution_count": null,
   "id": "democratic-large",
   "metadata": {},
   "outputs": [],
   "source": [
    "for row in potentialDataFrame.index:\n",
    "    potentialDataFrame.loc[row, 'T1 Volume Ratio'] = potentialDataFrame.loc[row, 'T1 Volume'] / potentialDataFrame.loc[row, 'T0 Volume']\n",
    "    \n",
    "potentialDataFrame"
   ]
  },
  {
   "cell_type": "markdown",
   "id": "wooden-local",
   "metadata": {},
   "source": [
    "## Screening\n",
    "\n",
    "Screening criteria are as follow:\n",
    "\n",
    "- Average Volume can't be too low\n",
    "- T1 Volume can't be too low\n",
    "- T1 Volume is more than 5 times of T0"
   ]
  },
  {
   "cell_type": "code",
   "execution_count": null,
   "id": "informative-trick",
   "metadata": {
    "scrolled": true
   },
   "outputs": [],
   "source": [
    "volumeLowerBound = float(2e6)\n",
    "t1traget = float(5)\n",
    "\n",
    "potentialDataFrame = potentialDataFrame[\n",
    "#     (volumeLowerBound < potentialDataFrame['30 day Average Volume']) &\n",
    "#     (volumeLowerBound < potentialDataFrame['T1 Volume']) &\n",
    "    (t1traget < potentialDataFrame['T1 Volume Ratio'])\n",
    "]\n",
    "potentialDataFrame.sort_values(\n",
    "    'Ticker',\n",
    "    ascending = True,\n",
    "    inplace = True\n",
    ")\n",
    "potentialDataFrame.reset_index(inplace = True, drop = True)\n",
    "\n",
    "potentialDataFrame"
   ]
  },
  {
   "cell_type": "code",
   "execution_count": null,
   "id": "needed-dialogue",
   "metadata": {},
   "outputs": [],
   "source": [
    "','.join(potentialDataFrame['Ticker'].to_list())"
   ]
  },
  {
   "cell_type": "markdown",
   "id": "accepted-relation",
   "metadata": {},
   "source": [
    "## Data Export\n",
    "\n",
    "For the ease of the next programe, we will also export the file in CSV version."
   ]
  },
  {
   "cell_type": "code",
   "execution_count": null,
   "id": "narrow-protest",
   "metadata": {},
   "outputs": [],
   "source": [
    "from datetime import date\n",
    "import os\n",
    "\n",
    "today = date.today().strftime(\"%Y%m%d\")\n",
    "folderName = f'../export/{today}'\n",
    "fileName = f'{folderName}/yau4muk6man4_strategy_US_{today}_volume_rise'\n",
    "csvFileName = f'{fileName}.csv'\n",
    "xlsxFileName = f'{fileName}.xlsx'\n",
    "sheetName = f'{today} Volume Rise'"
   ]
  },
  {
   "cell_type": "code",
   "execution_count": null,
   "id": "numeric-alpha",
   "metadata": {},
   "outputs": [],
   "source": [
    "try:\n",
    "    os.mkdir(folderName)\n",
    "    print(\"Directory \" , folderName ,  \" Created \") \n",
    "except FileExistsError:\n",
    "    print(\"Directory \" , folderName ,  \" already exists\")"
   ]
  },
  {
   "cell_type": "markdown",
   "id": "middle-energy",
   "metadata": {},
   "source": [
    "Export to csv"
   ]
  },
  {
   "cell_type": "code",
   "execution_count": null,
   "id": "european-prisoner",
   "metadata": {},
   "outputs": [],
   "source": [
    "potentialDataFrame.to_csv(csvFileName, index = False)"
   ]
  },
  {
   "cell_type": "markdown",
   "id": "ready-comedy",
   "metadata": {},
   "source": [
    "Export to xlsx"
   ]
  },
  {
   "cell_type": "code",
   "execution_count": null,
   "id": "aboriginal-motor",
   "metadata": {},
   "outputs": [],
   "source": [
    "writer = pd.ExcelWriter(xlsxFileName, engine = 'xlsxwriter')\n",
    "potentialDataFrame.to_excel(writer, sheet_name = sheetName, index = False)"
   ]
  },
  {
   "cell_type": "code",
   "execution_count": null,
   "id": "black-sampling",
   "metadata": {},
   "outputs": [],
   "source": [
    "backgroundColor = '#0a0a23'\n",
    "fontColor = '#ffffff'\n",
    "\n",
    "stringTemplate = writer.book.add_format(\n",
    "        {\n",
    "            'font_color': fontColor,\n",
    "            'bg_color': backgroundColor,\n",
    "            'border': 1\n",
    "        }\n",
    "    )\n",
    "\n",
    "dollarTemplate = writer.book.add_format(\n",
    "        {\n",
    "            'num_format':'$0.00',\n",
    "            'font_color': fontColor,\n",
    "            'bg_color': backgroundColor,\n",
    "            'border': 1\n",
    "        }\n",
    "    )\n",
    "\n",
    "integerTemplate = writer.book.add_format(\n",
    "        {\n",
    "            'num_format':'#,###',\n",
    "            'font_color': fontColor,\n",
    "            'bg_color': backgroundColor,\n",
    "            'border': 1\n",
    "        }\n",
    "    )\n",
    "\n",
    "floatTemplate = writer.book.add_format(\n",
    "        {\n",
    "            'num_format':'0.0',\n",
    "            'font_color': fontColor,\n",
    "            'bg_color': backgroundColor,\n",
    "            'border': 1\n",
    "        }\n",
    "    )\n",
    "\n",
    "percentTemplate = writer.book.add_format(\n",
    "        {\n",
    "            'num_format':'0.0%',\n",
    "            'font_color': fontColor,\n",
    "            'bg_color': backgroundColor,\n",
    "            'border': 1\n",
    "        }\n",
    "    )"
   ]
  },
  {
   "cell_type": "code",
   "execution_count": null,
   "id": "together-buffer",
   "metadata": {},
   "outputs": [],
   "source": [
    "columnFormats = {\n",
    "    'A': ['Ticker', stringTemplate],\n",
    "    'B': ['Price', dollarTemplate],\n",
    "    'C': ['30 day Average Volume', integerTemplate],\n",
    "    'D': ['T0 Date', stringTemplate],\n",
    "    'E': ['T0 Volume', integerTemplate],\n",
    "    'F': ['T1 Volume', integerTemplate],\n",
    "    'G': ['T1 Volume Ratio', percentTemplate],\n",
    "}\n",
    "\n",
    "for column in columnFormats.keys():\n",
    "    writer.sheets[sheetName].set_column(\n",
    "        f'{column}:{column}',\n",
    "        max(len(columnFormats[column][0]), 10),\n",
    "        columnFormats[column][1]\n",
    "    )\n",
    "    writer.sheets[sheetName].write(\n",
    "        f'{column}1',\n",
    "        columnFormats[column][0],\n",
    "        columnFormats[column][1]\n",
    "    )"
   ]
  },
  {
   "cell_type": "code",
   "execution_count": null,
   "id": "biblical-oxygen",
   "metadata": {},
   "outputs": [],
   "source": [
    "writer.save()"
   ]
  },
  {
   "cell_type": "markdown",
   "id": "reduced-sally",
   "metadata": {},
   "source": [
    "## Telegram"
   ]
  },
  {
   "cell_type": "code",
   "execution_count": null,
   "id": "optimum-reset",
   "metadata": {},
   "outputs": [],
   "source": [
    "import telegram\n",
    "from secrets import TELEGRAM_CHAT_ID\n",
    "from secrets import TELEGRAM_API_TOKEN"
   ]
  },
  {
   "cell_type": "code",
   "execution_count": null,
   "id": "accessory-appeal",
   "metadata": {},
   "outputs": [],
   "source": [
    "telegramBot = telegram.Bot(TELEGRAM_API_TOKEN)\n",
    "telegramBot"
   ]
  },
  {
   "cell_type": "code",
   "execution_count": null,
   "id": "virtual-halifax",
   "metadata": {
    "scrolled": true
   },
   "outputs": [],
   "source": [
    "txt = f'''\n",
    "⬆️⬆️⬆️ {today} Volume Rise ⬆️⬆️⬆️\n",
    "\n",
    "This is report of stock that have rise in volume during {today}.\n",
    "We have found {len(potentialDataFrame.index)} stock(s) that match the screening requirements.\n",
    "\n",
    "Rise Ticker:\n",
    "{','.join(potentialDataFrame['Ticker'])}\n",
    "\n",
    "Detail as in follow xlsx.\n",
    "'''\n",
    "\n",
    "output = open(xlsxFileName, 'rb')"
   ]
  },
  {
   "cell_type": "code",
   "execution_count": null,
   "id": "olive-alberta",
   "metadata": {},
   "outputs": [],
   "source": [
    "if SEND_TELEGRAM:\n",
    "    telegramBot.send_message(TELEGRAM_CHAT_ID, txt)\n",
    "    telegramBot.send_document(TELEGRAM_CHAT_ID, output)"
   ]
  },
  {
   "cell_type": "code",
   "execution_count": null,
   "id": "eleven-finding",
   "metadata": {},
   "outputs": [],
   "source": []
  },
  {
   "cell_type": "code",
   "execution_count": null,
   "id": "changing-omaha",
   "metadata": {},
   "outputs": [],
   "source": []
  },
  {
   "cell_type": "code",
   "execution_count": null,
   "id": "greatest-firmware",
   "metadata": {},
   "outputs": [],
   "source": []
  },
  {
   "cell_type": "code",
   "execution_count": null,
   "id": "incorporate-trout",
   "metadata": {},
   "outputs": [],
   "source": []
  }
 ],
 "metadata": {
  "kernelspec": {
   "display_name": "Python 3",
   "language": "python",
   "name": "python3"
  },
  "language_info": {
   "codemirror_mode": {
    "name": "ipython",
    "version": 3
   },
   "file_extension": ".py",
   "mimetype": "text/x-python",
   "name": "python",
   "nbconvert_exporter": "python",
   "pygments_lexer": "ipython3",
   "version": "3.9.13"
  }
 },
 "nbformat": 4,
 "nbformat_minor": 5
}
